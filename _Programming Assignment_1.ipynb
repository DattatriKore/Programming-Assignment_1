{
 "cells": [
  {
   "cell_type": "code",
   "execution_count": 1,
   "id": "3c056993",
   "metadata": {},
   "outputs": [
    {
     "name": "stdout",
     "output_type": "stream",
     "text": [
      "Hello python\n"
     ]
    }
   ],
   "source": [
    "# [1] : Write a Python program to print \"Hello Python\"?\n",
    "print(\"Hello python\")"
   ]
  },
  {
   "cell_type": "code",
   "execution_count": 2,
   "id": "d57e680e",
   "metadata": {},
   "outputs": [
    {
     "name": "stdout",
     "output_type": "stream",
     "text": [
      "The sum of a and b is : 43\n",
      "The div of a and b is : 0.8695652173913043\n"
     ]
    }
   ],
   "source": [
    "# [2] : Write a Python program to do arithmetical operations addition and division.?\n",
    "a = 20\n",
    "b = 23\n",
    "print(\"The sum of a and b is :\",a+b)\n",
    "print(\"The div of a and b is :\",a/b)"
   ]
  },
  {
   "cell_type": "code",
   "execution_count": 3,
   "id": "8bfca864",
   "metadata": {},
   "outputs": [
    {
     "name": "stdout",
     "output_type": "stream",
     "text": [
      "The area of the triangle is : 14.70 \n"
     ]
    }
   ],
   "source": [
    "# [3] : Write a Python program to find the area of a triangle?\n",
    "a = 5\n",
    "b = 6\n",
    "c = 7\n",
    "s = (a + b + c) / 2\n",
    "area = (s*(s-a)*(s-b)*(s-c)) ** 0.5\n",
    "print('The area of the triangle is : %0.2f ' %area)\n"
   ]
  },
  {
   "cell_type": "code",
   "execution_count": 4,
   "id": "b39f56b2",
   "metadata": {},
   "outputs": [
    {
     "name": "stdout",
     "output_type": "stream",
     "text": [
      "Value of d after swaping : 23\n",
      "Value of k after swaping : 20\n"
     ]
    }
   ],
   "source": [
    "# [4] : Write a Python program to swap two variables?\n",
    "d = 20\n",
    "k = 23\n",
    "temp = d\n",
    "d = k\n",
    "k = temp\n",
    " \n",
    "print(\"Value of d after swaping :\", d)\n",
    "print(\"Value of k after swaping :\", k)"
   ]
  },
  {
   "cell_type": "code",
   "execution_count": 5,
   "id": "6c562476",
   "metadata": {},
   "outputs": [
    {
     "name": "stdout",
     "output_type": "stream",
     "text": [
      "3\n"
     ]
    }
   ],
   "source": [
    "# [5] : Write a Python program to generate a random number?\n",
    "import random\n",
    "print(random.randint(0,9))"
   ]
  },
  {
   "cell_type": "code",
   "execution_count": null,
   "id": "f00108b4",
   "metadata": {},
   "outputs": [],
   "source": []
  }
 ],
 "metadata": {
  "kernelspec": {
   "display_name": "Python 3 (ipykernel)",
   "language": "python",
   "name": "python3"
  },
  "language_info": {
   "codemirror_mode": {
    "name": "ipython",
    "version": 3
   },
   "file_extension": ".py",
   "mimetype": "text/x-python",
   "name": "python",
   "nbconvert_exporter": "python",
   "pygments_lexer": "ipython3",
   "version": "3.9.12"
  }
 },
 "nbformat": 4,
 "nbformat_minor": 5
}
